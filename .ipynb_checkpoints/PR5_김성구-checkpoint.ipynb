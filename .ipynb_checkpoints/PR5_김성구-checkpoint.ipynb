{
 "cells": [
  {
   "cell_type": "code",
   "execution_count": 1,
   "id": "c02ef4c2",
   "metadata": {},
   "outputs": [
    {
     "name": "stdout",
     "output_type": "stream",
     "text": [
      "1. [2, 3]\n",
      "2. [0, 1, 1]\n"
     ]
    }
   ],
   "source": [
    "#b_test 함수 정의\n",
    "def b_test(eggs):\n",
    "    eggs.append(1)\n",
    "    eggs=[2,3]\n",
    "    print(\"1.\", eggs)\n",
    "\n",
    "#함수 사용\n",
    "\n",
    "ham=[0,1]\n",
    "b_test(ham)\n",
    "print(\"2.\", ham)"
   ]
  },
  {
   "cell_type": "code",
   "execution_count": 6,
   "id": "9ec29797",
   "metadata": {},
   "outputs": [
    {
     "name": "stdout",
     "output_type": "stream",
     "text": [
      "1. 20\n",
      "4. 30\n",
      "2. 10\n"
     ]
    },
    {
     "ename": "NameError",
     "evalue": "name 't' is not defined",
     "output_type": "error",
     "traceback": [
      "\u001b[1;31m---------------------------------------------------------------------------\u001b[0m",
      "\u001b[1;31mNameError\u001b[0m                                 Traceback (most recent call last)",
      "\u001b[1;32m~\\AppData\\Local\\Temp/ipykernel_13244/2262433919.py\u001b[0m in \u001b[0;36m<module>\u001b[1;34m\u001b[0m\n\u001b[0;32m      9\u001b[0m \u001b[0mtest\u001b[0m\u001b[1;33m(\u001b[0m\u001b[0mx\u001b[0m\u001b[1;33m)\u001b[0m\u001b[1;33m\u001b[0m\u001b[1;33m\u001b[0m\u001b[0m\n\u001b[0;32m     10\u001b[0m \u001b[0mprint\u001b[0m\u001b[1;33m(\u001b[0m\u001b[1;34m\"2.\"\u001b[0m\u001b[1;33m,\u001b[0m \u001b[0mx\u001b[0m\u001b[1;33m)\u001b[0m\u001b[1;33m\u001b[0m\u001b[1;33m\u001b[0m\u001b[0m\n\u001b[1;32m---> 11\u001b[1;33m \u001b[0mprint\u001b[0m\u001b[1;33m(\u001b[0m\u001b[1;34m\"3.\"\u001b[0m\u001b[1;33m,\u001b[0m \u001b[0mt\u001b[0m\u001b[1;33m)\u001b[0m\u001b[1;33m\u001b[0m\u001b[1;33m\u001b[0m\u001b[0m\n\u001b[0m",
      "\u001b[1;31mNameError\u001b[0m: name 't' is not defined"
     ]
    }
   ],
   "source": [
    "def test(t):\n",
    "    #print(x)\n",
    "    t = 20\n",
    "    print(\"1.\", t)\n",
    "    x = 30\n",
    "    print(\"4.\", x)\n",
    "    \n",
    "x = 10\n",
    "test(x)\n",
    "print(\"2.\", x)\n",
    "print(\"3.\", t)"
   ]
  },
  {
   "cell_type": "code",
   "execution_count": 10,
   "id": "db9da190",
   "metadata": {},
   "outputs": [
    {
     "name": "stdout",
     "output_type": "stream",
     "text": [
      "-10\n",
      "10\n"
     ]
    }
   ],
   "source": [
    "def c_test(x,y):\n",
    "    return x-y\n",
    "\n",
    "x=20\n",
    "y=30\n",
    "print(c_test(20,30))\n",
    "print(c_test(y=20,x=30))"
   ]
  },
  {
   "cell_type": "code",
   "execution_count": 11,
   "id": "0de1ab39",
   "metadata": {},
   "outputs": [
    {
     "name": "stdout",
     "output_type": "stream",
     "text": [
      "-10\n",
      "10\n",
      "10\n",
      "-10\n"
     ]
    }
   ],
   "source": [
    "def c_test(x,y=0):\n",
    "    return x-y\n",
    "\n",
    "print(c_test(20,30))\n",
    "print(c_test(y=20,x=30))\n",
    "print(c_test(10))\n",
    "print(c_test(10,20))"
   ]
  },
  {
   "cell_type": "code",
   "execution_count": 12,
   "id": "677b2ad8",
   "metadata": {},
   "outputs": [
    {
     "name": "stdout",
     "output_type": "stream",
     "text": [
      "15\n"
     ]
    }
   ],
   "source": [
    "def asterisk_test(a,b,*args):\n",
    "    return a+b+sum(args)\n",
    "\n",
    "print(asterisk_test(1,2,3,4,5))"
   ]
  },
  {
   "cell_type": "code",
   "execution_count": 15,
   "id": "18f1e28f",
   "metadata": {},
   "outputs": [
    {
     "name": "stdout",
     "output_type": "stream",
     "text": [
      "1\n",
      "(2, 3, 4)\n",
      "2 3 4\n",
      "9\n",
      "1\n",
      "(2,)\n",
      "2\n",
      "2\n",
      "1\n",
      "(2, 3)\n",
      "2 3\n",
      "5\n",
      "1\n",
      "(2, 3, 4, 5, 6, 7, 8)\n",
      "2 3 4 5 6 7 8\n",
      "35\n"
     ]
    }
   ],
   "source": [
    "def d_test(a,*args):\n",
    "    print(a)\n",
    "    print(args)\n",
    "    print(*args)\n",
    "    print(sum(args))\n",
    "\n",
    "d_test(1,2,3,4)\n",
    "d_test(1,2)\n",
    "d_test(1,2,3)\n",
    "d_test(1,2,3,4,5,6,7,8)"
   ]
  },
  {
   "cell_type": "code",
   "execution_count": 18,
   "id": "73c67e3f",
   "metadata": {},
   "outputs": [
    {
     "name": "stdout",
     "output_type": "stream",
     "text": [
      "{'a': 1, 'b': 2, 'c': 3}\n",
      "a b c\n",
      "dict_values([1, 2, 3])\n",
      "{'x': 100, 'y': 200}\n",
      "x y\n",
      "dict_values([100, 200])\n",
      "{'k1': 10, 'k2': 20, 'k3': 40, 'k5': 50}\n",
      "k1 k2 k3 k5\n",
      "dict_values([10, 20, 40, 50])\n"
     ]
    }
   ],
   "source": [
    "def e_test(**kwargs):\n",
    "    print(kwargs)\n",
    "    print(*kwargs)\n",
    "    print(kwargs.values())\n",
    "    \n",
    "e_test(a=1, b=2, c=3)\n",
    "e_test(x=100, y=200)\n",
    "e_test(k1=10, k2=20, k3=40, k5=50)"
   ]
  },
  {
   "cell_type": "code",
   "execution_count": 20,
   "id": "edb54aad",
   "metadata": {},
   "outputs": [
    {
     "name": "stdout",
     "output_type": "stream",
     "text": [
      "red,blue,green,yellow\n",
      "['red', 'blue', 'green', 'yellow']\n"
     ]
    }
   ],
   "source": [
    "co=['red','blue','green','yellow']\n",
    "result=','.join(co)\n",
    "print(result)\n",
    "result2=result.split(',')\n",
    "print(result2)"
   ]
  },
  {
   "cell_type": "code",
   "execution_count": 22,
   "id": "a6d5804f",
   "metadata": {},
   "outputs": [
    {
     "name": "stdout",
     "output_type": "stream",
     "text": [
      "[-2, 0, 2, 4, 6]\n"
     ]
    }
   ],
   "source": [
    "res2=[i-2 for i in range(10) if i%2==0]\n",
    "print(res2)"
   ]
  },
  {
   "cell_type": "code",
   "execution_count": 23,
   "id": "0aead158",
   "metadata": {},
   "outputs": [
    {
     "name": "stdout",
     "output_type": "stream",
     "text": [
      "[0, 0, 2, 0, 4, 0, 6, 0, 8, 0]\n"
     ]
    }
   ],
   "source": [
    "res2=[i if i%2==0 else 0 for i in range(10)]\n",
    "print(res2)"
   ]
  },
  {
   "cell_type": "code",
   "execution_count": 24,
   "id": "863a3da7",
   "metadata": {},
   "outputs": [
    {
     "name": "stdout",
     "output_type": "stream",
     "text": [
      "['ab', 'ai', 'az', 'jb', 'ji', 'jz', 'ob', 'oi', 'oz', 'ub', 'ui', 'uz']\n"
     ]
    }
   ],
   "source": [
    "w1='ajou'\n",
    "w2='biz'\n",
    "res3=[i+j for i in w1 for j in w2]\n",
    "print(res3)"
   ]
  },
  {
   "cell_type": "code",
   "execution_count": 25,
   "id": "eefa70fd",
   "metadata": {},
   "outputs": [
    {
     "name": "stdout",
     "output_type": "stream",
     "text": [
      "['HW', 'Ho', 'Hr', 'Hl', 'Hd', 'eW', 'eo', 'er', 'el', 'ed', 'lW', 'lo', 'lr', 'ld', 'lW', 'lo', 'lr', 'ld', 'oW', 'or', 'ol', 'od']\n"
     ]
    }
   ],
   "source": [
    "w1='Hello'\n",
    "w2='World'\n",
    "res3=[i+j for i in w1 for j in w2 if not(i==j)]\n",
    "print(res3)"
   ]
  },
  {
   "cell_type": "code",
   "execution_count": 26,
   "id": "0153f14e",
   "metadata": {},
   "outputs": [
    {
     "name": "stdout",
     "output_type": "stream",
     "text": [
      "['ll', 'll', 'oo']\n"
     ]
    }
   ],
   "source": [
    "w1='Hello'\n",
    "w2='World'\n",
    "res3=[i+j for i in w1 for j in w2 if i==j]\n",
    "print(res3)"
   ]
  },
  {
   "cell_type": "code",
   "execution_count": 27,
   "id": "24bba17c",
   "metadata": {},
   "outputs": [
    {
     "name": "stdout",
     "output_type": "stream",
     "text": [
      "['The', 'quick', 'brown', 'fox', 'jumps']\n",
      "[['The', 'THE', 'the', 3], ['quick', 'QUICK', 'quick', 5], ['brown', 'BROWN', 'brown', 5], ['fox', 'FOX', 'fox', 3], ['jumps', 'JUMPS', 'jumps', 5]]\n"
     ]
    }
   ],
   "source": [
    "w3='The quick brown fox jumps'.split()\n",
    "print(w3)\n",
    "res4=[[w, w.upper(), w.lower(), len(w)] for w in w3]\n",
    "print(res4)"
   ]
  },
  {
   "cell_type": "code",
   "execution_count": 28,
   "id": "fb63daef",
   "metadata": {},
   "outputs": [
    {
     "name": "stdout",
     "output_type": "stream",
     "text": [
      "0:00:00.095346\n"
     ]
    }
   ],
   "source": [
    "import time\n",
    "import datetime\n",
    "it_max=1000\n",
    "vector=list(range(it_max))\n",
    "scalar=2\n",
    "start=time.time()\n",
    "for _ in range(it_max):\n",
    "    [scalar*i for i in range(it_max)]\n",
    "end=time.time()\n",
    "sec=end-start\n",
    "res5=datetime.timedelta(seconds=sec)\n",
    "print(res5)"
   ]
  },
  {
   "cell_type": "code",
   "execution_count": 29,
   "id": "6d7774f5",
   "metadata": {},
   "outputs": [
    {
     "name": "stdout",
     "output_type": "stream",
     "text": [
      "['AD', 'AE', 'AA', 'BD', 'BE', 'BA', 'CD', 'CE', 'CA']\n",
      "[['AD', 'BD', 'CD'], ['AE', 'BE', 'CE'], ['AA', 'BA', 'CA']]\n"
     ]
    }
   ],
   "source": [
    "case1=['A','B','C']\n",
    "case2=['D','E','A']\n",
    "res6=[i+j for i in case1 for j in case2]\n",
    "print(res6)\n",
    "res7=[[i+j for i in case1] for j in case2]\n",
    "print(res7)"
   ]
  },
  {
   "cell_type": "code",
   "execution_count": null,
   "id": "4b81ce5d",
   "metadata": {},
   "outputs": [],
   "source": []
  }
 ],
 "metadata": {
  "kernelspec": {
   "display_name": "Python 3 (ipykernel)",
   "language": "python",
   "name": "python3"
  },
  "language_info": {
   "codemirror_mode": {
    "name": "ipython",
    "version": 3
   },
   "file_extension": ".py",
   "mimetype": "text/x-python",
   "name": "python",
   "nbconvert_exporter": "python",
   "pygments_lexer": "ipython3",
   "version": "3.9.7"
  }
 },
 "nbformat": 4,
 "nbformat_minor": 5
}
