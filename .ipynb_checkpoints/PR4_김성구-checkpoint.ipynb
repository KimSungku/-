{
 "cells": [
  {
   "cell_type": "code",
   "execution_count": 2,
   "id": "8333f4d9",
   "metadata": {},
   "outputs": [
    {
     "name": "stdout",
     "output_type": "stream",
     "text": [
      "0번 학생은: pass\n",
      "1번 학생은: pass\n",
      "2번 학생은: pass\n",
      "3번 학생은: fail\n",
      "4번 학생은: pass\n"
     ]
    }
   ],
   "source": [
    "score=[65, 80, 75, 55, 90]\n",
    "for i in range(len(score)):\n",
    "    if score[i] >= 60:\n",
    "        print('%d번 학생은: pass'%i)\n",
    "    else:\n",
    "        print('%d번 학생은: failed'%i)"
   ]
  },
  {
   "cell_type": "code",
   "execution_count": 3,
   "id": "45115fb7",
   "metadata": {},
   "outputs": [
    {
     "name": "stdout",
     "output_type": "stream",
     "text": [
      "[1, 0, 1, 0, 1, 1, 1, 0, 0, 0, 1, 0]\n"
     ]
    }
   ],
   "source": [
    "data1=[\"Cat\", \"Dog\", \"cat\", \"dog\", \"cat\", \"cat\", \"Cat\", \"Dog\", \"dog\", \"Dog\", \"cat\", \"Dog\"]\n",
    "dic_1={\"cat\":1, \"dog\":0, \"Cat\":1, \"Dog\":0}\n",
    "data2=[dic_1[key] for key in data1]\n",
    "print(data2)"
   ]
  },
  {
   "cell_type": "code",
   "execution_count": 1,
   "id": "e2aa17bc",
   "metadata": {},
   "outputs": [
    {
     "name": "stdout",
     "output_type": "stream",
     "text": [
      "[1, 2, 3]\n",
      "1 2 3\n"
     ]
    }
   ],
   "source": [
    "# 패킹과 언패킹\n",
    "\n",
    "t=[1,2,3]\n",
    "a,b,c=t\n",
    "print(t)\n",
    "print(a,b,c)"
   ]
  },
  {
   "cell_type": "code",
   "execution_count": 2,
   "id": "81a67a4e",
   "metadata": {},
   "outputs": [
    {
     "name": "stdout",
     "output_type": "stream",
     "text": [
      "12\n"
     ]
    }
   ],
   "source": [
    "def cal_rec(x,y):\n",
    "    z=x*y\n",
    "    return z\n",
    "\n",
    "print(cal_rec(3,4))"
   ]
  },
  {
   "cell_type": "code",
   "execution_count": 3,
   "id": "3ff513b1",
   "metadata": {},
   "outputs": [
    {
     "name": "stdout",
     "output_type": "stream",
     "text": [
      "600\n"
     ]
    }
   ],
   "source": [
    "print(cal_rec(20,30))"
   ]
  },
  {
   "cell_type": "code",
   "execution_count": 5,
   "id": "594e4797",
   "metadata": {},
   "outputs": [
    {
     "name": "stdout",
     "output_type": "stream",
     "text": [
      "200\n"
     ]
    }
   ],
   "source": [
    "a=10\n",
    "b=20\n",
    "k=cal_rec(a,b)\n",
    "print(k)"
   ]
  },
  {
   "cell_type": "code",
   "execution_count": 8,
   "id": "94087ccf",
   "metadata": {},
   "outputs": [
    {
     "name": "stdout",
     "output_type": "stream",
     "text": [
      "300\n"
     ]
    }
   ],
   "source": [
    "def cal_rec2(x,y):\n",
    "    print(x*y)\n",
    "    \n",
    "cal_rec2(30,10)"
   ]
  },
  {
   "cell_type": "code",
   "execution_count": 9,
   "id": "ad8e41ff",
   "metadata": {},
   "outputs": [
    {
     "ename": "NameError",
     "evalue": "name 'x' is not defined",
     "output_type": "error",
     "traceback": [
      "\u001b[1;31m---------------------------------------------------------------------------\u001b[0m",
      "\u001b[1;31mNameError\u001b[0m                                 Traceback (most recent call last)",
      "\u001b[1;32m~\\AppData\\Local\\Temp/ipykernel_4516/1353120783.py\u001b[0m in \u001b[0;36m<module>\u001b[1;34m\u001b[0m\n\u001b[1;32m----> 1\u001b[1;33m \u001b[0mprint\u001b[0m\u001b[1;33m(\u001b[0m\u001b[0mx\u001b[0m\u001b[1;33m)\u001b[0m\u001b[1;33m\u001b[0m\u001b[1;33m\u001b[0m\u001b[0m\n\u001b[0m",
      "\u001b[1;31mNameError\u001b[0m: name 'x' is not defined"
     ]
    }
   ],
   "source": [
    "print(x)"
   ]
  },
  {
   "cell_type": "code",
   "execution_count": 11,
   "id": "705c5027",
   "metadata": {},
   "outputs": [
    {
     "name": "stdout",
     "output_type": "stream",
     "text": [
      "inside 10\n",
      "200\n",
      "50\n"
     ]
    }
   ],
   "source": [
    "def cal_rec2(x,y):\n",
    "    print(\"inside\",x)\n",
    "    print(x*y)\n",
    "\n",
    "x=50\n",
    "a=10\n",
    "b=20\n",
    "cal_rec2(a,b)\n",
    "print(x)"
   ]
  },
  {
   "cell_type": "code",
   "execution_count": 13,
   "id": "f3f754e4",
   "metadata": {},
   "outputs": [
    {
     "name": "stdout",
     "output_type": "stream",
     "text": [
      "[0, 2, 1]\n",
      "[2, 3]\n",
      "[0, 2, 1]\n"
     ]
    }
   ],
   "source": [
    "def spam(x1):\n",
    "    x1.append(1)\n",
    "    print(x1)\n",
    "    x1=[2,3]\n",
    "    print(x1)\n",
    "\n",
    "y1=[0,2]\n",
    "spam(y1)\n",
    "print(y1)"
   ]
  },
  {
   "cell_type": "code",
   "execution_count": null,
   "id": "79db0d2e",
   "metadata": {},
   "outputs": [],
   "source": []
  }
 ],
 "metadata": {
  "kernelspec": {
   "display_name": "Python 3 (ipykernel)",
   "language": "python",
   "name": "python3"
  },
  "language_info": {
   "codemirror_mode": {
    "name": "ipython",
    "version": 3
   },
   "file_extension": ".py",
   "mimetype": "text/x-python",
   "name": "python",
   "nbconvert_exporter": "python",
   "pygments_lexer": "ipython3",
   "version": "3.9.7"
  }
 },
 "nbformat": 4,
 "nbformat_minor": 5
}
