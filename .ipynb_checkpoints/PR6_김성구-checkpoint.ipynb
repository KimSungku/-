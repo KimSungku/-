{
 "cells": [
  {
   "cell_type": "code",
   "execution_count": 1,
   "id": "73b1403b",
   "metadata": {},
   "outputs": [
    {
     "name": "stdout",
     "output_type": "stream",
     "text": [
      "(1, 10, 100) (2, 20, 200) (3, 30, 300)\n"
     ]
    }
   ],
   "source": [
    "a,b,c=zip((1,2,3),(10,20,30),(100,200,300))\n",
    "print(a,b,c)"
   ]
  },
  {
   "cell_type": "code",
   "execution_count": 2,
   "id": "59ba72fb",
   "metadata": {},
   "outputs": [
    {
     "data": {
      "text/plain": [
       "[111, 222, 333]"
      ]
     },
     "execution_count": 2,
     "metadata": {},
     "output_type": "execute_result"
    }
   ],
   "source": [
    "[sum(x) for x in zip((1,2,3),(10,20,30),(100,200,300))]"
   ]
  },
  {
   "cell_type": "code",
   "execution_count": 5,
   "id": "64832b6a",
   "metadata": {},
   "outputs": [
    {
     "name": "stdout",
     "output_type": "stream",
     "text": [
      "{0: 'Ajou', 1: 'University', 2: 'and', 3: 'Business', 4: 'School'}\n"
     ]
    }
   ],
   "source": [
    "d1={i:j for i,j in enumerate(\"Ajou University and Business School\".split())}\n",
    "print(d1)"
   ]
  },
  {
   "cell_type": "code",
   "execution_count": 9,
   "id": "0c4c69d1",
   "metadata": {},
   "outputs": [
    {
     "name": "stdout",
     "output_type": "stream",
     "text": [
      "[(1, 10, 100), (2, 20, 200), (3, 30, 300)]\n",
      "[111, 222, 333]\n"
     ]
    }
   ],
   "source": [
    "a1=[1,2,3]\n",
    "b1=[10,20,30]\n",
    "c1=[100,200,300]\n",
    "\n",
    "print(list(zip(a1,b1,c1)))\n",
    "d2=[sum(x) for x in zip(a1,b1,c1)]\n",
    "print(d2)"
   ]
  },
  {
   "cell_type": "code",
   "execution_count": 14,
   "id": "91878b0b",
   "metadata": {},
   "outputs": [
    {
     "name": "stdout",
     "output_type": "stream",
     "text": [
      "5\n"
     ]
    }
   ],
   "source": [
    "print((lambda x,y:x+y)(1,4))"
   ]
  },
  {
   "cell_type": "code",
   "execution_count": 26,
   "id": "41a05b75",
   "metadata": {},
   "outputs": [
    {
     "name": "stdout",
     "output_type": "stream",
     "text": [
      "{'s': 4, 'd': 5, 'a': 5, 'f': 3, 'k': 4, 'j': 3, 'l': 3, 'i': 1, 'w': 1, 'e': 1, 'o': 1, 'u': 1, 'r': 1, 't': 1, 'n': 2, 'c': 1, 'x': 1, 'v': 1}\n"
     ]
    },
    {
     "data": {
      "text/plain": [
       "[('d', 5),\n",
       " ('a', 5),\n",
       " ('s', 4),\n",
       " ('k', 4),\n",
       " ('f', 3),\n",
       " ('j', 3),\n",
       " ('l', 3),\n",
       " ('n', 2),\n",
       " ('i', 1),\n",
       " ('w', 1),\n",
       " ('e', 1),\n",
       " ('o', 1),\n",
       " ('u', 1),\n",
       " ('r', 1),\n",
       " ('t', 1),\n",
       " ('c', 1),\n",
       " ('x', 1),\n",
       " ('v', 1)]"
      ]
     },
     "execution_count": 26,
     "metadata": {},
     "output_type": "execute_result"
    }
   ],
   "source": [
    "st = \"sdafksadfjdsalkfjsaldkjdlaiweourtkncxvn\"\n",
    "dict_ch={}\n",
    "for ch in st:\n",
    "    dict_ch[ch] = dict_ch.get(ch,0) + 1\n",
    "dict_ch\n",
    "print(dict_ch)\n",
    "dict_ch.items()\n",
    "sorted_dict_ch = sorted(list(dict_ch.items()), key=lambda x:x[1], reverse=True)\n",
    "sorted_dict_ch"
   ]
  },
  {
   "cell_type": "code",
   "execution_count": 22,
   "id": "2e754f4a",
   "metadata": {},
   "outputs": [
    {
     "name": "stdout",
     "output_type": "stream",
     "text": [
      "[111, 222, 333]\n"
     ]
    }
   ],
   "source": [
    "m1=[[1,2,3],[10,20,30],[100,200,300]]\n",
    "m2=[sum(x) for x in zip(*m1)]\n",
    "print(m2)"
   ]
  },
  {
   "cell_type": "code",
   "execution_count": null,
   "id": "ba4c0b77",
   "metadata": {},
   "outputs": [],
   "source": []
  }
 ],
 "metadata": {
  "kernelspec": {
   "display_name": "Python 3 (ipykernel)",
   "language": "python",
   "name": "python3"
  },
  "language_info": {
   "codemirror_mode": {
    "name": "ipython",
    "version": 3
   },
   "file_extension": ".py",
   "mimetype": "text/x-python",
   "name": "python",
   "nbconvert_exporter": "python",
   "pygments_lexer": "ipython3",
   "version": "3.9.7"
  }
 },
 "nbformat": 4,
 "nbformat_minor": 5
}
